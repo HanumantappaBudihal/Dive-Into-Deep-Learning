{
 "cells": [
  {
   "cell_type": "code",
   "execution_count": 7,
   "metadata": {},
   "outputs": [],
   "source": [
    "import numpy as np\n",
    "from d2l import tensorflow as d2l\n",
    "import math\n",
    "import time"
   ]
  },
  {
   "cell_type": "code",
   "execution_count": 8,
   "metadata": {},
   "outputs": [],
   "source": [
    "def normal(x, mu, sigma):\n",
    "    p = 1 / math.sqrt(2 * math.pi * sigma**2)\n",
    "    return p * np.exp(-0.5 / sigma**2 * (x - mu)**2)"
   ]
  },
  {
   "cell_type": "code",
   "execution_count": 9,
   "metadata": {},
   "outputs": [
    {
     "ename": "NameError",
     "evalue": "name 'math' is not defined",
     "output_type": "error",
     "traceback": [
      "\u001b[1;31m---------------------------------------------------------------------------\u001b[0m",
      "\u001b[1;31mNameError\u001b[0m                                 Traceback (most recent call last)",
      "\u001b[1;32mh:\\23.CS6910 DL\\7.Source Code\\Dive-Into-Deep-Learning\\3.Linear Neural Networks\\1.Linear Regression\\2.The Normal Distribution and Squared Loss.ipynb Cell 3'\u001b[0m in \u001b[0;36m<module>\u001b[1;34m\u001b[0m\n\u001b[0;32m      <a href='vscode-notebook-cell:/h%3A/23.CS6910%20DL/7.Source%20Code/Dive-Into-Deep-Learning/3.Linear%20Neural%20Networks/1.Linear%20Regression/2.The%20Normal%20Distribution%20and%20Squared%20Loss.ipynb#ch0000001?line=3'>4</a>\u001b[0m \u001b[39m# Mean and standard deviation pairs\u001b[39;00m\n\u001b[0;32m      <a href='vscode-notebook-cell:/h%3A/23.CS6910%20DL/7.Source%20Code/Dive-Into-Deep-Learning/3.Linear%20Neural%20Networks/1.Linear%20Regression/2.The%20Normal%20Distribution%20and%20Squared%20Loss.ipynb#ch0000001?line=4'>5</a>\u001b[0m params \u001b[39m=\u001b[39m [(\u001b[39m0\u001b[39m, \u001b[39m1\u001b[39m), (\u001b[39m0\u001b[39m, \u001b[39m2\u001b[39m), (\u001b[39m3\u001b[39m, \u001b[39m1\u001b[39m)]\n\u001b[1;32m----> <a href='vscode-notebook-cell:/h%3A/23.CS6910%20DL/7.Source%20Code/Dive-Into-Deep-Learning/3.Linear%20Neural%20Networks/1.Linear%20Regression/2.The%20Normal%20Distribution%20and%20Squared%20Loss.ipynb#ch0000001?line=5'>6</a>\u001b[0m d2l\u001b[39m.\u001b[39mplot(x, [normal(x, mu, sigma) \u001b[39mfor\u001b[39;00m mu, sigma \u001b[39min\u001b[39;00m params], xlabel\u001b[39m=\u001b[39m\u001b[39m'\u001b[39m\u001b[39mx\u001b[39m\u001b[39m'\u001b[39m,\n\u001b[0;32m      <a href='vscode-notebook-cell:/h%3A/23.CS6910%20DL/7.Source%20Code/Dive-Into-Deep-Learning/3.Linear%20Neural%20Networks/1.Linear%20Regression/2.The%20Normal%20Distribution%20and%20Squared%20Loss.ipynb#ch0000001?line=6'>7</a>\u001b[0m          ylabel\u001b[39m=\u001b[39m\u001b[39m'\u001b[39m\u001b[39mp(x)\u001b[39m\u001b[39m'\u001b[39m, figsize\u001b[39m=\u001b[39m(\u001b[39m4.5\u001b[39m, \u001b[39m2.5\u001b[39m),\n\u001b[0;32m      <a href='vscode-notebook-cell:/h%3A/23.CS6910%20DL/7.Source%20Code/Dive-Into-Deep-Learning/3.Linear%20Neural%20Networks/1.Linear%20Regression/2.The%20Normal%20Distribution%20and%20Squared%20Loss.ipynb#ch0000001?line=7'>8</a>\u001b[0m          legend\u001b[39m=\u001b[39m[\u001b[39mf\u001b[39m\u001b[39m'\u001b[39m\u001b[39mmean \u001b[39m\u001b[39m{\u001b[39;00mmu\u001b[39m}\u001b[39;00m\u001b[39m, std \u001b[39m\u001b[39m{\u001b[39;00msigma\u001b[39m}\u001b[39;00m\u001b[39m'\u001b[39m \u001b[39mfor\u001b[39;00m mu, sigma \u001b[39min\u001b[39;00m params])\n",
      "\u001b[1;32mh:\\23.CS6910 DL\\7.Source Code\\Dive-Into-Deep-Learning\\3.Linear Neural Networks\\1.Linear Regression\\2.The Normal Distribution and Squared Loss.ipynb Cell 3'\u001b[0m in \u001b[0;36m<listcomp>\u001b[1;34m(.0)\u001b[0m\n\u001b[0;32m      <a href='vscode-notebook-cell:/h%3A/23.CS6910%20DL/7.Source%20Code/Dive-Into-Deep-Learning/3.Linear%20Neural%20Networks/1.Linear%20Regression/2.The%20Normal%20Distribution%20and%20Squared%20Loss.ipynb#ch0000001?line=3'>4</a>\u001b[0m \u001b[39m# Mean and standard deviation pairs\u001b[39;00m\n\u001b[0;32m      <a href='vscode-notebook-cell:/h%3A/23.CS6910%20DL/7.Source%20Code/Dive-Into-Deep-Learning/3.Linear%20Neural%20Networks/1.Linear%20Regression/2.The%20Normal%20Distribution%20and%20Squared%20Loss.ipynb#ch0000001?line=4'>5</a>\u001b[0m params \u001b[39m=\u001b[39m [(\u001b[39m0\u001b[39m, \u001b[39m1\u001b[39m), (\u001b[39m0\u001b[39m, \u001b[39m2\u001b[39m), (\u001b[39m3\u001b[39m, \u001b[39m1\u001b[39m)]\n\u001b[1;32m----> <a href='vscode-notebook-cell:/h%3A/23.CS6910%20DL/7.Source%20Code/Dive-Into-Deep-Learning/3.Linear%20Neural%20Networks/1.Linear%20Regression/2.The%20Normal%20Distribution%20and%20Squared%20Loss.ipynb#ch0000001?line=5'>6</a>\u001b[0m d2l\u001b[39m.\u001b[39mplot(x, [normal(x, mu, sigma) \u001b[39mfor\u001b[39;00m mu, sigma \u001b[39min\u001b[39;00m params], xlabel\u001b[39m=\u001b[39m\u001b[39m'\u001b[39m\u001b[39mx\u001b[39m\u001b[39m'\u001b[39m,\n\u001b[0;32m      <a href='vscode-notebook-cell:/h%3A/23.CS6910%20DL/7.Source%20Code/Dive-Into-Deep-Learning/3.Linear%20Neural%20Networks/1.Linear%20Regression/2.The%20Normal%20Distribution%20and%20Squared%20Loss.ipynb#ch0000001?line=6'>7</a>\u001b[0m          ylabel\u001b[39m=\u001b[39m\u001b[39m'\u001b[39m\u001b[39mp(x)\u001b[39m\u001b[39m'\u001b[39m, figsize\u001b[39m=\u001b[39m(\u001b[39m4.5\u001b[39m, \u001b[39m2.5\u001b[39m),\n\u001b[0;32m      <a href='vscode-notebook-cell:/h%3A/23.CS6910%20DL/7.Source%20Code/Dive-Into-Deep-Learning/3.Linear%20Neural%20Networks/1.Linear%20Regression/2.The%20Normal%20Distribution%20and%20Squared%20Loss.ipynb#ch0000001?line=7'>8</a>\u001b[0m          legend\u001b[39m=\u001b[39m[\u001b[39mf\u001b[39m\u001b[39m'\u001b[39m\u001b[39mmean \u001b[39m\u001b[39m{\u001b[39;00mmu\u001b[39m}\u001b[39;00m\u001b[39m, std \u001b[39m\u001b[39m{\u001b[39;00msigma\u001b[39m}\u001b[39;00m\u001b[39m'\u001b[39m \u001b[39mfor\u001b[39;00m mu, sigma \u001b[39min\u001b[39;00m params])\n",
      "\u001b[1;32mh:\\23.CS6910 DL\\7.Source Code\\Dive-Into-Deep-Learning\\3.Linear Neural Networks\\1.Linear Regression\\2.The Normal Distribution and Squared Loss.ipynb Cell 2'\u001b[0m in \u001b[0;36mnormal\u001b[1;34m(x, mu, sigma)\u001b[0m\n\u001b[0;32m      <a href='vscode-notebook-cell:/h%3A/23.CS6910%20DL/7.Source%20Code/Dive-Into-Deep-Learning/3.Linear%20Neural%20Networks/1.Linear%20Regression/2.The%20Normal%20Distribution%20and%20Squared%20Loss.ipynb#ch0000000?line=0'>1</a>\u001b[0m \u001b[39mdef\u001b[39;00m \u001b[39mnormal\u001b[39m(x, mu, sigma):\n\u001b[1;32m----> <a href='vscode-notebook-cell:/h%3A/23.CS6910%20DL/7.Source%20Code/Dive-Into-Deep-Learning/3.Linear%20Neural%20Networks/1.Linear%20Regression/2.The%20Normal%20Distribution%20and%20Squared%20Loss.ipynb#ch0000000?line=1'>2</a>\u001b[0m     p \u001b[39m=\u001b[39m \u001b[39m1\u001b[39m \u001b[39m/\u001b[39m math\u001b[39m.\u001b[39msqrt(\u001b[39m2\u001b[39m \u001b[39m*\u001b[39m math\u001b[39m.\u001b[39mpi \u001b[39m*\u001b[39m sigma\u001b[39m*\u001b[39m\u001b[39m*\u001b[39m\u001b[39m2\u001b[39m)\n\u001b[0;32m      <a href='vscode-notebook-cell:/h%3A/23.CS6910%20DL/7.Source%20Code/Dive-Into-Deep-Learning/3.Linear%20Neural%20Networks/1.Linear%20Regression/2.The%20Normal%20Distribution%20and%20Squared%20Loss.ipynb#ch0000000?line=2'>3</a>\u001b[0m     \u001b[39mreturn\u001b[39;00m p \u001b[39m*\u001b[39m np\u001b[39m.\u001b[39mexp(\u001b[39m-\u001b[39m\u001b[39m0.5\u001b[39m \u001b[39m/\u001b[39m sigma\u001b[39m*\u001b[39m\u001b[39m*\u001b[39m\u001b[39m2\u001b[39m \u001b[39m*\u001b[39m (x \u001b[39m-\u001b[39m mu)\u001b[39m*\u001b[39m\u001b[39m*\u001b[39m\u001b[39m2\u001b[39m)\n",
      "\u001b[1;31mNameError\u001b[0m: name 'math' is not defined"
     ]
    }
   ],
   "source": [
    "# Use numpy again for visualization\n",
    "x = np.arange(-7, 7, 0.01)\n",
    "\n",
    "# Mean and standard deviation pairs\n",
    "params = [(0, 1), (0, 2), (3, 1)]\n",
    "d2l.plot(x, [normal(x, mu, sigma) for mu, sigma in params], xlabel='x',\n",
    "         ylabel='p(x)', figsize=(4.5, 2.5),\n",
    "         legend=[f'mean {mu}, std {sigma}' for mu, sigma in params])"
   ]
  }
 ],
 "metadata": {
  "interpreter": {
   "hash": "65726d375d5b6cf5164973a765e3805d5aee5cecc65d8a26497d1aff194a80f9"
  },
  "kernelspec": {
   "display_name": "Python 3.9.9 ('tf2.7')",
   "language": "python",
   "name": "python3"
  },
  "language_info": {
   "codemirror_mode": {
    "name": "ipython",
    "version": 3
   },
   "file_extension": ".py",
   "mimetype": "text/x-python",
   "name": "python",
   "nbconvert_exporter": "python",
   "pygments_lexer": "ipython3",
   "version": "3.9.9"
  },
  "orig_nbformat": 4
 },
 "nbformat": 4,
 "nbformat_minor": 2
}
